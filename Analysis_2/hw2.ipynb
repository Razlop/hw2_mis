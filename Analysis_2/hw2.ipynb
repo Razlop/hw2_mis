{
 "cells": [
  {
   "cell_type": "markdown",
   "metadata": {
    "Collapsed": "false"
   },
   "source": [
    "## Preliminaries"
   ]
  },
  {
   "cell_type": "code",
   "execution_count": 1,
   "metadata": {
    "Collapsed": "false"
   },
   "outputs": [],
   "source": [
    "# To auto-reload modules in jupyter notebook (so that changes in files *.py doesn't require manual reloading):\n",
    "# https://stackoverflow.com/questions/5364050/reloading-submodules-in-ipython\n",
    "%load_ext autoreload\n",
    "%autoreload 2"
   ]
  },
  {
   "cell_type": "markdown",
   "metadata": {
    "Collapsed": "false"
   },
   "source": [
    "Import commonly used libraries and magic command for inline plotting"
   ]
  },
  {
   "cell_type": "code",
   "execution_count": 4,
   "metadata": {
    "Collapsed": "false"
   },
   "outputs": [],
   "source": [
    "import numpy as np\n",
    "import pandas as pd\n",
    "import matplotlib.pyplot as plt\n",
    "import seaborn as sns\n"
   ]
  },
  {
   "cell_type": "code",
   "execution_count": 5,
   "metadata": {},
   "outputs": [],
   "source": [
    "%matplotlib inline"
   ]
  },
  {
   "cell_type": "markdown",
   "metadata": {
    "Collapsed": "false"
   },
   "source": [
    "## Analysis 2 – Wrangling csv files"
   ]
  },
  {
   "cell_type": "markdown",
   "metadata": {
    "Collapsed": "false"
   },
   "source": [
    "# Step 1 Consolidation"
   ]
  },
  {
   "cell_type": "markdown",
   "metadata": {},
   "source": [
    "Imports"
   ]
  },
  {
   "cell_type": "code",
   "execution_count": 28,
   "metadata": {},
   "outputs": [],
   "source": [
    "import pandas as pd\n",
    "from openpyxl import Workbook\n",
    "from pathlib import Path"
   ]
  },
  {
   "cell_type": "markdown",
   "metadata": {},
   "source": [
    "Step 1: Create a new Excel file"
   ]
  },
  {
   "cell_type": "code",
   "execution_count": 29,
   "metadata": {},
   "outputs": [],
   "source": [
    "excel_filename = 'BCM.xlsx'\n",
    "workbook = Workbook()  # This creates a new workbook with a default sheet named 'Sheet'\n",
    "workbook.save(excel_filename)"
   ]
  },
  {
   "cell_type": "markdown",
   "metadata": {},
   "source": [
    "Define the directory where your CSV files are stored\n"
   ]
  },
  {
   "cell_type": "code",
   "execution_count": 30,
   "metadata": {},
   "outputs": [],
   "source": [
    "csv_directory = 'logs'  # Make sure to set this to the correct path"
   ]
  },
  {
   "cell_type": "markdown",
   "metadata": {},
   "source": [
    "Use pathlib to glob through the directory and find all CSV files\n"
   ]
  },
  {
   "cell_type": "code",
   "execution_count": 31,
   "metadata": {},
   "outputs": [],
   "source": [
    "csv_files = Path(csv_directory).glob('*.csv')"
   ]
  },
  {
   "cell_type": "markdown",
   "metadata": {},
   "source": [
    "Lets loop through each csv now"
   ]
  },
  {
   "cell_type": "code",
   "execution_count": 32,
   "metadata": {},
   "outputs": [
    {
     "name": "stdout",
     "output_type": "stream",
     "text": [
      "All CSV files have been inserted into the Excel file.\n"
     ]
    }
   ],
   "source": [
    "headers = ['datetime', 'scale', 'temperature']\n",
    "for csv_file in csv_files:\n",
    "    try:\n",
    "        # Read the CSV file into a pandas DataFrame\n",
    "        data = pd.read_csv(csv_file, header=None)  # Specify that there is no header row\n",
    "        data.columns = headers  # Assign the headers to the DataFrame\n",
    "\n",
    "        # Insert the DataFrame into a new sheet in the Excel file\n",
    "        # Use the name of the CSV file as the sheet name\n",
    "        sheet_name = csv_file.stem  # This gets the file name without the extension\n",
    "        with pd.ExcelWriter(excel_filename, engine='openpyxl', mode='a') as writer:  # Open the file in append mode\n",
    "            data.to_excel(writer, sheet_name=sheet_name, index=False)  # Write the data to a new sheet\n",
    "    except Exception as e:\n",
    "        print(f\"An error occurred processing file {csv_file}: {e}\")\n",
    "\n",
    "# Notify when the task is complete\n",
    "print(\"All CSV files have been inserted into the Excel file.\")\n"
   ]
  },
  {
   "cell_type": "markdown",
   "metadata": {},
   "source": [
    "# Step 2 – Summarization"
   ]
  },
  {
   "cell_type": "markdown",
   "metadata": {},
   "source": [
    "Similar to above but now we will be adding to the .xlsx"
   ]
  },
  {
   "cell_type": "markdown",
   "metadata": {},
   "source": [
    "Starting with our imports"
   ]
  },
  {
   "cell_type": "code",
   "execution_count": 33,
   "metadata": {},
   "outputs": [],
   "source": [
    "import pandas as pd\n",
    "from openpyxl import Workbook, load_workbook\n",
    "from pathlib import Path"
   ]
  },
  {
   "cell_type": "markdown",
   "metadata": {},
   "source": [
    "Step 1: Create a new Excel file\n"
   ]
  },
  {
   "cell_type": "code",
   "execution_count": 34,
   "metadata": {},
   "outputs": [],
   "source": [
    "excel_filename = 'BCM.xlsx'\n",
    "workbook = Workbook()  # This creates a new workbook with a default sheet named 'Sheet'\n",
    "workbook.save(excel_filename)"
   ]
  },
  {
   "cell_type": "markdown",
   "metadata": {},
   "source": [
    "Define the directory where your CSV files are stored\n"
   ]
  },
  {
   "cell_type": "code",
   "execution_count": 35,
   "metadata": {},
   "outputs": [],
   "source": [
    "csv_directory = 'logs'  # Make sure to set this to the correct path\n",
    "\n",
    "# Use pathlib to glob through the directory and find all CSV files\n",
    "csv_files = Path(csv_directory).glob('*.csv')"
   ]
  },
  {
   "cell_type": "markdown",
   "metadata": {},
   "source": [
    "Loop through each csv but this time we're adding labels and formulas"
   ]
  },
  {
   "cell_type": "code",
   "execution_count": 36,
   "metadata": {},
   "outputs": [
    {
     "name": "stdout",
     "output_type": "stream",
     "text": [
      "All CSV files have been inserted into the Excel file.\n"
     ]
    }
   ],
   "source": [
    "# Headers\n",
    "headers = ['datetime', 'scale', 'temperature']\n",
    "\n",
    "# Loop through each CSV file\n",
    "for csv_file in csv_files:\n",
    "    try:\n",
    "        # Read the CSV file into a pandas DataFrame\n",
    "        data = pd.read_csv(csv_file, header=None)  # Specify that there is no header row\n",
    "        data.columns = headers  # Assign the headers to the DataFrame\n",
    "\n",
    "        # Convert the 'datetime' column to pandas datetime\n",
    "        data['datetime'] = pd.to_datetime(data['datetime'], infer_datetime_format=True)\n",
    "\n",
    "        # Insert the DataFrame into a new sheet in the Excel file\n",
    "        # Use the name of the CSV file as the sheet name\n",
    "        sheet_name = csv_file.stem  # This gets the file name without the extension\n",
    "        with pd.ExcelWriter(excel_filename, engine='openpyxl', mode='a', datetime_format='yyyy-mm-dd hh:mm:ss') as writer:\n",
    "            data.to_excel(writer, sheet_name=sheet_name, index=False)  # Write the data to a new sheet\n",
    "        \n",
    "        # Reload the workbook to access the newly created sheet\n",
    "        wb = load_workbook(excel_filename)\n",
    "        ws = wb[sheet_name]\n",
    "\n",
    "        # Add the labels and formulas\n",
    "        ws['G2'] = 'Min Temperature'\n",
    "        ws['G3'] = 'Max Temperature'\n",
    "        ws['G4'] = 'Average Temperature'\n",
    "        ws['G6'] = 'Min Datetime'\n",
    "        ws['G7'] = 'Max Datetime'\n",
    "\n",
    "        last_row = ws.max_row\n",
    "        ws['H2'] = f'=MIN(C2:C{last_row})'\n",
    "        ws['H3'] = f'=MAX(C2:C{last_row})'\n",
    "        ws['H4'] = f'=AVERAGE(C2:C{last_row})'\n",
    "        ws['H6'] = f'=MIN(A2:A{last_row})'\n",
    "        ws['H7'] = f'=MAX(A2:A{last_row})'\n",
    "        \n",
    "        # Apply custom datetime format to min and max datetime cells\n",
    "        ws['H6'].number_format = 'YYYY-MM-DD HH:MM:SS'\n",
    "        ws['H7'].number_format = 'YYYY-MM-DD HH:MM:SS'\n",
    "\n",
    "        # Apply cell formatting to column H\n",
    "        for row in ws['H2:H4']:\n",
    "            for cell in row:\n",
    "                cell.number_format = '0.00'\n",
    "        \n",
    "        # Save the changes to the workbook\n",
    "        wb.save(excel_filename)\n",
    "    except Exception as e:\n",
    "        print(f\"An error occurred processing file {csv_file}: {e}\")\n",
    "\n",
    "# Notify when the task is complete\n",
    "print(\"All CSV files have been inserted into the Excel file.\")\n"
   ]
  }
 ],
 "metadata": {
  "kernelspec": {
   "display_name": "Python 3 (ipykernel)",
   "language": "python",
   "name": "python3"
  },
  "language_info": {
   "codemirror_mode": {
    "name": "ipython",
    "version": 3
   },
   "file_extension": ".py",
   "mimetype": "text/x-python",
   "name": "python",
   "nbconvert_exporter": "python",
   "pygments_lexer": "ipython3",
   "version": "3.11.3"
  },
  "toc-autonumbering": true
 },
 "nbformat": 4,
 "nbformat_minor": 4
}
